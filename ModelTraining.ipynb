{
 "cells": [
  {
   "cell_type": "markdown",
   "source": [
    "### Importowanie bibliotek"
   ],
   "metadata": {
    "collapsed": false
   },
   "id": "6e0b832980508011"
  },
  {
   "cell_type": "code",
   "outputs": [],
   "source": [
    "import matplotlib.pyplot as plt\n",
    "import pandas as pd\n",
    "import plotly.graph_objs as go\n",
    "import seaborn as sns\n",
    "import pickle\n",
    "from sklearn.decomposition import PCA\n",
    "from sklearn.preprocessing import StandardScaler"
   ],
   "metadata": {
    "collapsed": false,
    "ExecuteTime": {
     "end_time": "2024-04-11T11:26:00.552223Z",
     "start_time": "2024-04-11T11:26:00.545443Z"
    }
   },
   "id": "4bc0bb8748f8a19f",
   "execution_count": 6
  },
  {
   "cell_type": "markdown",
   "source": [
    "### Załadowanie zmiennych"
   ],
   "metadata": {
    "collapsed": false
   },
   "id": "61f6f4bf0e180a41"
  },
  {
   "cell_type": "code",
   "execution_count": 7,
   "id": "initial_id",
   "metadata": {
    "collapsed": true,
    "ExecuteTime": {
     "end_time": "2024-04-11T11:26:00.567415Z",
     "start_time": "2024-04-11T11:26:00.554318Z"
    }
   },
   "outputs": [],
   "source": [
    "with open('data_dump/dataAnalysisVars.pkl', 'rb') as f:\n",
    "    df = pickle.load(f)\n",
    "    \n",
    "    df_0 = pickle.load(f)\n",
    "    df_mean = pickle.load(f)\n",
    "    df_interpolate = pickle.load(f)\n",
    "    \n",
    "    normalized_0 = pickle.load(f)\n",
    "    scaler_0 = pickle.load(f)\n",
    "    \n",
    "    normalized_mean = pickle.load(f)\n",
    "    scaler_mean = pickle.load(f)\n",
    "    \n",
    "    normalized_interpolate = pickle.load(f)\n",
    "    scaler_interpolate = pickle.load(f)"
   ]
  }
 ],
 "metadata": {
  "kernelspec": {
   "display_name": "Python 3",
   "language": "python",
   "name": "python3"
  },
  "language_info": {
   "codemirror_mode": {
    "name": "ipython",
    "version": 2
   },
   "file_extension": ".py",
   "mimetype": "text/x-python",
   "name": "python",
   "nbconvert_exporter": "python",
   "pygments_lexer": "ipython2",
   "version": "2.7.6"
  }
 },
 "nbformat": 4,
 "nbformat_minor": 5
}
