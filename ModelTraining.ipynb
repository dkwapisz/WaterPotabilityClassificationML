{
 "cells": [
  {
   "cell_type": "markdown",
   "source": [
    "## Importowanie bibliotek"
   ],
   "metadata": {
    "collapsed": false
   },
   "id": "6e0b832980508011"
  },
  {
   "cell_type": "code",
   "outputs": [],
   "source": [
    "import matplotlib.pyplot as plt\n",
    "import numpy as np\n",
    "import pandas as pd\n",
    "import plotly.graph_objs as go\n",
    "import seaborn as sns\n",
    "import pickle\n",
    "\n",
    "from keras import Input\n",
    "from keras.src.layers import Dropout\n",
    "from keras.src.optimizers import Adam\n",
    "from sklearn.decomposition import PCA\n",
    "from sklearn.ensemble import RandomForestClassifier\n",
    "from sklearn.metrics import accuracy_score\n",
    "from sklearn.model_selection import RandomizedSearchCV\n",
    "from sklearn.preprocessing import StandardScaler\n",
    "from keras.models import Sequential\n",
    "from keras.layers import Dense\n",
    "import tensorflow as tf\n",
    "from sklearn.svm import SVC"
   ],
   "metadata": {
    "collapsed": false,
    "ExecuteTime": {
     "end_time": "2024-04-12T16:22:07.257515Z",
     "start_time": "2024-04-12T16:22:05.308272Z"
    }
   },
   "id": "4bc0bb8748f8a19f",
   "execution_count": 1
  },
  {
   "cell_type": "markdown",
   "source": [
    "## Załadowanie zmiennych"
   ],
   "metadata": {
    "collapsed": false
   },
   "id": "61f6f4bf0e180a41"
  },
  {
   "cell_type": "code",
   "execution_count": 2,
   "id": "initial_id",
   "metadata": {
    "collapsed": true,
    "ExecuteTime": {
     "end_time": "2024-04-12T16:22:07.272417Z",
     "start_time": "2024-04-12T16:22:07.259790Z"
    }
   },
   "outputs": [],
   "source": [
    "with open('data_dump/dataAnalysisVars.pkl', 'rb') as f:\n",
    "    df = pickle.load(f)\n",
    "    \n",
    "    df_0 = pickle.load(f)\n",
    "    df_mean = pickle.load(f)\n",
    "    df_interpolate = pickle.load(f)\n",
    "    \n",
    "    normalized_0 = pickle.load(f)\n",
    "    scaler_0 = pickle.load(f)\n",
    "    \n",
    "    normalized_mean = pickle.load(f)\n",
    "    scaler_mean = pickle.load(f)\n",
    "    \n",
    "    normalized_interpolate = pickle.load(f)\n",
    "    scaler_interpolate = pickle.load(f)"
   ]
  },
  {
   "cell_type": "markdown",
   "source": [
    "## Funkcje do podziału zbioru danych"
   ],
   "metadata": {
    "collapsed": false
   },
   "id": "d6cdb99b5c15e78a"
  },
  {
   "cell_type": "code",
   "outputs": [],
   "source": [
    "def split_df_train_test(data, test_size, seed):\n",
    "    np.random.seed(seed)\n",
    "    \n",
    "    test_size = int(test_size * len(data))\n",
    "    test_indices = np.random.choice(data.index, size=test_size, replace=False)\n",
    "    train_indices = np.setdiff1d(data.index, test_indices)\n",
    "    \n",
    "    train_set = data.loc[train_indices]\n",
    "    test_set = data.loc[test_indices]\n",
    "    \n",
    "    return train_set, test_set\n",
    "\n",
    "def split_df_train_val_test(data, val_size, test_size, seed):\n",
    "    np.random.seed(seed)\n",
    "    \n",
    "    val_size = int(val_size * len(data))\n",
    "    test_size = int(test_size * len(data))\n",
    "    \n",
    "    val_test_indices = np.random.choice(data.index, size=val_size + test_size, replace=False)\n",
    "    \n",
    "    val_indices = val_test_indices[:val_size]\n",
    "    test_indices = val_test_indices[val_size:]\n",
    "    \n",
    "    train_indices = np.setdiff1d(data.index, val_test_indices)\n",
    "    \n",
    "    train_set = data.loc[train_indices]\n",
    "    val_set = data.loc[val_indices]\n",
    "    test_set = data.loc[test_indices]\n",
    "    \n",
    "    return train_set, val_set, test_set"
   ],
   "metadata": {
    "collapsed": false,
    "ExecuteTime": {
     "end_time": "2024-04-12T16:22:07.287440Z",
     "start_time": "2024-04-12T16:22:07.273441Z"
    }
   },
   "id": "c1d4a5420d4af6f7",
   "execution_count": 3
  },
  {
   "cell_type": "markdown",
   "source": [
    "## SVM - Scikit-Learn"
   ],
   "metadata": {
    "collapsed": false
   },
   "id": "c90d4114e657256c"
  },
  {
   "cell_type": "code",
   "outputs": [],
   "source": [
    "class SVMClassifierWrapper:\n",
    "    \n",
    "    def __init__(self, train_set, test_set):\n",
    "        self.train_set = train_set.iloc[:, :-1]\n",
    "        self.test_set = test_set.iloc[:, :-1]\n",
    "        self.train_label = train_set.iloc[:, -1]\n",
    "        self.test_label = test_set.iloc[:, -1]\n",
    "        self.model = None\n",
    "        self.history = None\n",
    "        self._create_model()\n",
    "\n",
    "    def _create_model(self):\n",
    "        self.model = SVC(random_state=42)\n",
    "        \n",
    "    def train_model(self, param_grid=None):\n",
    "        if param_grid is None:\n",
    "            param_grid = {\n",
    "                'C': [0.1, 1, 5, 10],\n",
    "                'kernel': ['linear', 'poly', 'rbf', 'sigmoid'],\n",
    "                'gamma': ['scale', 'auto'],\n",
    "                'probability': [True, False],\n",
    "                'degree': [2, 3, 4, 5]\n",
    "            }\n",
    "        \n",
    "        random_search = RandomizedSearchCV(self.model, param_distributions=param_grid, n_iter=160, cv=5, random_state=645, n_jobs=-1)\n",
    "        random_search.fit(self.train_set, self.train_label)\n",
    "        self.model = random_search.best_estimator_\n",
    "\n",
    "    def evaluate_model(self):\n",
    "        test_pred = self.model.predict(self.test_set)\n",
    "        test_acc = accuracy_score(self.test_label, test_pred)\n",
    "        print('-' * 18 + ' SVM ' + '-' * 18)\n",
    "        for key, value in self.model.get_params().items():\n",
    "            print(f\"{key}: {value}\")\n",
    "        print('-' * 41)\n",
    "        print('Test accuracy:', test_acc)\n",
    "        print('-' * 41)\n"
   ],
   "metadata": {
    "collapsed": false,
    "ExecuteTime": {
     "end_time": "2024-04-12T16:22:07.303441Z",
     "start_time": "2024-04-12T16:22:07.288441Z"
    }
   },
   "id": "93fbd3c66b46457a",
   "execution_count": 4
  },
  {
   "cell_type": "markdown",
   "source": [
    "## Random Forest - Scikit-Learn"
   ],
   "metadata": {
    "collapsed": false
   },
   "id": "6da6d961d14cb79c"
  },
  {
   "cell_type": "code",
   "outputs": [],
   "source": [
    "class RandomForestClassifierWrapper:\n",
    "    \n",
    "    def __init__(self, train_set, test_set):\n",
    "        self.train_set = train_set.iloc[:, :-1]\n",
    "        self.test_set = test_set.iloc[:, :-1]\n",
    "        self.train_label = train_set.iloc[:, -1]\n",
    "        self.test_label = test_set.iloc[:, -1]\n",
    "        self.model = None\n",
    "        self.history = None\n",
    "        self._create_model()\n",
    "\n",
    "    def _create_model(self):\n",
    "        self.model = RandomForestClassifier(random_state=42)\n",
    "        \n",
    "    def train_model(self, param_grid=None):\n",
    "        if param_grid is None:\n",
    "            param_grid = {\n",
    "                'n_estimators': [50, 100, 150],\n",
    "                'max_depth': [5, 10, 20, 30],\n",
    "                'min_samples_split': [2, 5, 10, 15],\n",
    "                'criterion': ['gini', 'entropy'],\n",
    "                'bootstrap': [True, False]\n",
    "            }\n",
    "        \n",
    "        random_search = RandomizedSearchCV(self.model, param_distributions=param_grid, n_iter=192, cv=5, random_state=42, n_jobs=-1)\n",
    "        random_search.fit(self.train_set, self.train_label)\n",
    "        self.model = random_search.best_estimator_\n",
    "\n",
    "    def evaluate_model(self):\n",
    "        test_pred = self.model.predict(self.test_set)\n",
    "        test_acc = accuracy_score(self.test_label, test_pred)\n",
    "        print('-' * 13 + ' Random Forest ' + '-' * 13)\n",
    "        for key, value in self.model.get_params().items():\n",
    "            print(f\"{key}: {value}\")\n",
    "        print('-' * 41)\n",
    "        print('Test accuracy:', test_acc)\n",
    "        print('-' * 41)\n",
    "       "
   ],
   "metadata": {
    "collapsed": false,
    "ExecuteTime": {
     "end_time": "2024-04-12T16:22:07.318443Z",
     "start_time": "2024-04-12T16:22:07.304441Z"
    }
   },
   "id": "d4a31636c2940745",
   "execution_count": 5
  },
  {
   "cell_type": "markdown",
   "source": [
    "## MLP - Keras"
   ],
   "metadata": {
    "collapsed": false
   },
   "id": "b0120d7bb7894caa"
  },
  {
   "cell_type": "code",
   "outputs": [],
   "source": [
    "class MLPClassifierWrapper:\n",
    "\n",
    "    def __init__(self, train_set, val_set, test_set):\n",
    "        self.train_set = train_set.iloc[:, :-1]\n",
    "        self.val_set = val_set.iloc[:, :-1]\n",
    "        self.test_set = test_set.iloc[:, :-1]\n",
    "        self.train_label = train_set.iloc[:, -1]\n",
    "        self.val_label = val_set.iloc[:, -1]\n",
    "        self.test_label = test_set.iloc[:, -1]\n",
    "        self.history = None\n",
    "        self._create_model()\n",
    "\n",
    "    def _create_model(self):\n",
    "        self.model = Sequential()\n",
    "        \n",
    "        self.model.add(Input(shape=(9,)))\n",
    "        self.model.add(Dense(40, activation='leaky_relu'))\n",
    "        self.model.add(Dropout(0.3))\n",
    "        self.model.add(Dense(30, activation='leaky_relu'))\n",
    "        self.model.add(Dropout(0.2))\n",
    "        self.model.add(Dense(20, activation='leaky_relu'))\n",
    "        self.model.add(Dropout(0.1))\n",
    "        self.model.add(Dense(1, activation='sigmoid'))\n",
    "\n",
    "        self.model.compile(optimizer=Adam(learning_rate=0.0003), loss='binary_crossentropy', metrics=['accuracy'])\n",
    "\n",
    "    def train_model(self):\n",
    "         self.history = self.model.fit(self.train_set, self.train_label, epochs=150, batch_size=64, validation_data=(self.val_set, self.val_label))\n",
    "\n",
    "    def evaluate_model(self):\n",
    "        test_loss, test_acc = self.model.evaluate(self.test_set, self.test_label)\n",
    "        print('-' * 18 + ' MLP ' + '-' * 18)\n",
    "        print('-' * 41)\n",
    "        print('Test accuracy:', test_acc)\n",
    "        print('Test loss:', test_loss)\n",
    "        print('-' * 41)\n",
    "        \n",
    "    def plot_results(self):\n",
    "        plt.figure(figsize=(12, 5))\n",
    "\n",
    "        plt.subplot(1, 2, 1)\n",
    "        plt.plot(self.history.history['accuracy'], label='Train Accuracy')\n",
    "        plt.plot(self.history.history['val_accuracy'], label='Validation Accuracy')\n",
    "        plt.title('Training and Validation Accuracy')\n",
    "        plt.xlabel('Epoch')\n",
    "        plt.ylabel('Accuracy')\n",
    "        plt.legend()\n",
    "\n",
    "        plt.subplot(1, 2, 2)\n",
    "        plt.plot(self.history.history['loss'], label='Train Loss')\n",
    "        plt.plot(self.history.history['val_loss'], label='Validation Loss')\n",
    "        plt.title('Training and Validation Loss')\n",
    "        plt.xlabel('Epoch')\n",
    "        plt.ylabel('Loss')\n",
    "        plt.legend()\n",
    "        \n",
    "        plt.tight_layout()\n",
    "        plt.show()\n",
    "        "
   ],
   "metadata": {
    "collapsed": false,
    "ExecuteTime": {
     "end_time": "2024-04-12T16:22:07.333825Z",
     "start_time": "2024-04-12T16:22:07.319444Z"
    }
   },
   "id": "4a0a0d9191b03eb9",
   "execution_count": 6
  },
  {
   "cell_type": "markdown",
   "source": [
    "## Trenowanie modeli"
   ],
   "metadata": {
    "collapsed": false
   },
   "id": "39de41dce66c49c9"
  },
  {
   "cell_type": "markdown",
   "source": [
    "### Split danych"
   ],
   "metadata": {
    "collapsed": false
   },
   "id": "d4b2cabd00aa652"
  },
  {
   "cell_type": "code",
   "outputs": [],
   "source": [
    "train, test = split_df_train_test(normalized_interpolate, 0.2, 123)\n",
    "train_mlp, val_mlp, test_mlp = split_df_train_val_test(normalized_interpolate, 0.1, 0.1, 111)"
   ],
   "metadata": {
    "collapsed": false,
    "ExecuteTime": {
     "end_time": "2024-04-12T16:22:07.349200Z",
     "start_time": "2024-04-12T16:22:07.333825Z"
    }
   },
   "id": "9e114e0a34ebb662",
   "execution_count": 7
  },
  {
   "cell_type": "markdown",
   "source": [
    "### Trenowanie SVM"
   ],
   "metadata": {
    "collapsed": false
   },
   "id": "53353a42b27a5f96"
  },
  {
   "cell_type": "code",
   "outputs": [
    {
     "name": "stdout",
     "output_type": "stream",
     "text": [
      "------------------ SVM ------------------\n",
      "C: 1\n",
      "break_ties: False\n",
      "cache_size: 200\n",
      "class_weight: None\n",
      "coef0: 0.0\n",
      "decision_function_shape: ovr\n",
      "degree: 3\n",
      "gamma: scale\n",
      "kernel: rbf\n",
      "max_iter: -1\n",
      "probability: False\n",
      "random_state: 42\n",
      "shrinking: True\n",
      "tol: 0.001\n",
      "verbose: False\n",
      "-----------------------------------------\n",
      "Test accuracy: 0.6992366412213741\n",
      "-----------------------------------------\n"
     ]
    }
   ],
   "source": [
    "modelSVM = SVMClassifierWrapper(train, test)\n",
    "modelSVM.train_model()\n",
    "modelSVM.evaluate_model()"
   ],
   "metadata": {
    "collapsed": false,
    "ExecuteTime": {
     "end_time": "2024-04-12T16:22:29.578575Z",
     "start_time": "2024-04-12T16:22:07.350201Z"
    }
   },
   "id": "b979d3d195de429c",
   "execution_count": 8
  },
  {
   "cell_type": "markdown",
   "source": [
    "### Trenowanie Random Forest"
   ],
   "metadata": {
    "collapsed": false
   },
   "id": "56e2fd78c0103b80"
  },
  {
   "cell_type": "code",
   "outputs": [
    {
     "name": "stdout",
     "output_type": "stream",
     "text": [
      "------------- Random Forest -------------\n",
      "bootstrap: False\n",
      "ccp_alpha: 0.0\n",
      "class_weight: None\n",
      "criterion: gini\n",
      "max_depth: 10\n",
      "max_features: sqrt\n",
      "max_leaf_nodes: None\n",
      "max_samples: None\n",
      "min_impurity_decrease: 0.0\n",
      "min_samples_leaf: 1\n",
      "min_samples_split: 10\n",
      "min_weight_fraction_leaf: 0.0\n",
      "n_estimators: 100\n",
      "n_jobs: None\n",
      "oob_score: False\n",
      "random_state: 42\n",
      "verbose: 0\n",
      "warm_start: False\n",
      "-----------------------------------------\n",
      "Test accuracy: 0.6809160305343511\n",
      "-----------------------------------------\n"
     ]
    }
   ],
   "source": [
    "modelRF = RandomForestClassifierWrapper(train, test)\n",
    "modelRF.train_model()\n",
    "modelRF.evaluate_model()"
   ],
   "metadata": {
    "collapsed": false,
    "ExecuteTime": {
     "end_time": "2024-04-12T16:23:47.627006Z",
     "start_time": "2024-04-12T16:22:29.579588Z"
    }
   },
   "id": "364eb72924879ce2",
   "execution_count": 9
  },
  {
   "cell_type": "markdown",
   "source": [
    "### Trenowanie MLP"
   ],
   "metadata": {
    "collapsed": false
   },
   "id": "9d15fa760f3e1c1b"
  },
  {
   "cell_type": "code",
   "outputs": [
    {
     "name": "stdout",
     "output_type": "stream",
     "text": [
      "Epoch 1/150\n",
      "\u001B[1m41/41\u001B[0m \u001B[32m━━━━━━━━━━━━━━━━━━━━\u001B[0m\u001B[37m\u001B[0m \u001B[1m1s\u001B[0m 3ms/step - accuracy: 0.4528 - loss: 0.7438 - val_accuracy: 0.5015 - val_loss: 0.6955\n",
      "Epoch 2/150\n",
      "\u001B[1m41/41\u001B[0m \u001B[32m━━━━━━━━━━━━━━━━━━━━\u001B[0m\u001B[37m\u001B[0m \u001B[1m0s\u001B[0m 1ms/step - accuracy: 0.5057 - loss: 0.7006 - val_accuracy: 0.5749 - val_loss: 0.6831\n",
      "Epoch 3/150\n",
      "\u001B[1m41/41\u001B[0m \u001B[32m━━━━━━━━━━━━━━━━━━━━\u001B[0m\u001B[37m\u001B[0m \u001B[1m0s\u001B[0m 1ms/step - accuracy: 0.5470 - loss: 0.6874 - val_accuracy: 0.5902 - val_loss: 0.6780\n",
      "Epoch 4/150\n",
      "\u001B[1m41/41\u001B[0m \u001B[32m━━━━━━━━━━━━━━━━━━━━\u001B[0m\u001B[37m\u001B[0m \u001B[1m0s\u001B[0m 972us/step - accuracy: 0.5887 - loss: 0.6849 - val_accuracy: 0.5933 - val_loss: 0.6747\n",
      "Epoch 5/150\n",
      "\u001B[1m41/41\u001B[0m \u001B[32m━━━━━━━━━━━━━━━━━━━━\u001B[0m\u001B[37m\u001B[0m \u001B[1m0s\u001B[0m 1ms/step - accuracy: 0.5670 - loss: 0.6864 - val_accuracy: 0.6055 - val_loss: 0.6725\n",
      "Epoch 6/150\n",
      "\u001B[1m41/41\u001B[0m \u001B[32m━━━━━━━━━━━━━━━━━━━━\u001B[0m\u001B[37m\u001B[0m \u001B[1m0s\u001B[0m 1000us/step - accuracy: 0.5889 - loss: 0.6788 - val_accuracy: 0.6116 - val_loss: 0.6706\n",
      "Epoch 7/150\n",
      "\u001B[1m41/41\u001B[0m \u001B[32m━━━━━━━━━━━━━━━━━━━━\u001B[0m\u001B[37m\u001B[0m \u001B[1m0s\u001B[0m 1ms/step - accuracy: 0.6008 - loss: 0.6758 - val_accuracy: 0.6116 - val_loss: 0.6696\n",
      "Epoch 8/150\n",
      "\u001B[1m41/41\u001B[0m \u001B[32m━━━━━━━━━━━━━━━━━━━━\u001B[0m\u001B[37m\u001B[0m \u001B[1m0s\u001B[0m 979us/step - accuracy: 0.5857 - loss: 0.6770 - val_accuracy: 0.6147 - val_loss: 0.6690\n",
      "Epoch 9/150\n",
      "\u001B[1m41/41\u001B[0m \u001B[32m━━━━━━━━━━━━━━━━━━━━\u001B[0m\u001B[37m\u001B[0m \u001B[1m0s\u001B[0m 960us/step - accuracy: 0.5851 - loss: 0.6803 - val_accuracy: 0.6086 - val_loss: 0.6688\n",
      "Epoch 10/150\n",
      "\u001B[1m41/41\u001B[0m \u001B[32m━━━━━━━━━━━━━━━━━━━━\u001B[0m\u001B[37m\u001B[0m \u001B[1m0s\u001B[0m 1ms/step - accuracy: 0.6050 - loss: 0.6698 - val_accuracy: 0.6208 - val_loss: 0.6681\n",
      "Epoch 11/150\n",
      "\u001B[1m41/41\u001B[0m \u001B[32m━━━━━━━━━━━━━━━━━━━━\u001B[0m\u001B[37m\u001B[0m \u001B[1m0s\u001B[0m 993us/step - accuracy: 0.5874 - loss: 0.6803 - val_accuracy: 0.6147 - val_loss: 0.6677\n",
      "Epoch 12/150\n",
      "\u001B[1m41/41\u001B[0m \u001B[32m━━━━━━━━━━━━━━━━━━━━\u001B[0m\u001B[37m\u001B[0m \u001B[1m0s\u001B[0m 990us/step - accuracy: 0.6085 - loss: 0.6659 - val_accuracy: 0.6147 - val_loss: 0.6670\n",
      "Epoch 13/150\n",
      "\u001B[1m41/41\u001B[0m \u001B[32m━━━━━━━━━━━━━━━━━━━━\u001B[0m\u001B[37m\u001B[0m \u001B[1m0s\u001B[0m 1ms/step - accuracy: 0.6188 - loss: 0.6703 - val_accuracy: 0.6177 - val_loss: 0.6667\n",
      "Epoch 14/150\n",
      "\u001B[1m41/41\u001B[0m \u001B[32m━━━━━━━━━━━━━━━━━━━━\u001B[0m\u001B[37m\u001B[0m \u001B[1m0s\u001B[0m 989us/step - accuracy: 0.6050 - loss: 0.6709 - val_accuracy: 0.6116 - val_loss: 0.6655\n",
      "Epoch 15/150\n",
      "\u001B[1m41/41\u001B[0m \u001B[32m━━━━━━━━━━━━━━━━━━━━\u001B[0m\u001B[37m\u001B[0m \u001B[1m0s\u001B[0m 1ms/step - accuracy: 0.6073 - loss: 0.6659 - val_accuracy: 0.6147 - val_loss: 0.6650\n",
      "Epoch 16/150\n",
      "\u001B[1m41/41\u001B[0m \u001B[32m━━━━━━━━━━━━━━━━━━━━\u001B[0m\u001B[37m\u001B[0m \u001B[1m0s\u001B[0m 985us/step - accuracy: 0.6086 - loss: 0.6669 - val_accuracy: 0.6147 - val_loss: 0.6644\n",
      "Epoch 17/150\n",
      "\u001B[1m41/41\u001B[0m \u001B[32m━━━━━━━━━━━━━━━━━━━━\u001B[0m\u001B[37m\u001B[0m \u001B[1m0s\u001B[0m 979us/step - accuracy: 0.6160 - loss: 0.6678 - val_accuracy: 0.6177 - val_loss: 0.6628\n",
      "Epoch 18/150\n",
      "\u001B[1m41/41\u001B[0m \u001B[32m━━━━━━━━━━━━━━━━━━━━\u001B[0m\u001B[37m\u001B[0m \u001B[1m0s\u001B[0m 1ms/step - accuracy: 0.6197 - loss: 0.6624 - val_accuracy: 0.6208 - val_loss: 0.6611\n",
      "Epoch 19/150\n",
      "\u001B[1m41/41\u001B[0m \u001B[32m━━━━━━━━━━━━━━━━━━━━\u001B[0m\u001B[37m\u001B[0m \u001B[1m0s\u001B[0m 963us/step - accuracy: 0.6239 - loss: 0.6563 - val_accuracy: 0.6177 - val_loss: 0.6598\n",
      "Epoch 20/150\n",
      "\u001B[1m41/41\u001B[0m \u001B[32m━━━━━━━━━━━━━━━━━━━━\u001B[0m\u001B[37m\u001B[0m \u001B[1m0s\u001B[0m 1ms/step - accuracy: 0.6099 - loss: 0.6690 - val_accuracy: 0.6177 - val_loss: 0.6590\n",
      "Epoch 21/150\n",
      "\u001B[1m41/41\u001B[0m \u001B[32m━━━━━━━━━━━━━━━━━━━━\u001B[0m\u001B[37m\u001B[0m \u001B[1m0s\u001B[0m 1000us/step - accuracy: 0.6133 - loss: 0.6612 - val_accuracy: 0.6300 - val_loss: 0.6587\n",
      "Epoch 22/150\n",
      "\u001B[1m41/41\u001B[0m \u001B[32m━━━━━━━━━━━━━━━━━━━━\u001B[0m\u001B[37m\u001B[0m \u001B[1m0s\u001B[0m 976us/step - accuracy: 0.6005 - loss: 0.6639 - val_accuracy: 0.6361 - val_loss: 0.6576\n",
      "Epoch 23/150\n",
      "\u001B[1m41/41\u001B[0m \u001B[32m━━━━━━━━━━━━━━━━━━━━\u001B[0m\u001B[37m\u001B[0m \u001B[1m0s\u001B[0m 990us/step - accuracy: 0.6108 - loss: 0.6640 - val_accuracy: 0.6239 - val_loss: 0.6560\n",
      "Epoch 24/150\n",
      "\u001B[1m41/41\u001B[0m \u001B[32m━━━━━━━━━━━━━━━━━━━━\u001B[0m\u001B[37m\u001B[0m \u001B[1m0s\u001B[0m 1ms/step - accuracy: 0.6211 - loss: 0.6584 - val_accuracy: 0.6269 - val_loss: 0.6541\n",
      "Epoch 25/150\n",
      "\u001B[1m41/41\u001B[0m \u001B[32m━━━━━━━━━━━━━━━━━━━━\u001B[0m\u001B[37m\u001B[0m \u001B[1m0s\u001B[0m 957us/step - accuracy: 0.6234 - loss: 0.6602 - val_accuracy: 0.6361 - val_loss: 0.6529\n",
      "Epoch 26/150\n",
      "\u001B[1m41/41\u001B[0m \u001B[32m━━━━━━━━━━━━━━━━━━━━\u001B[0m\u001B[37m\u001B[0m \u001B[1m0s\u001B[0m 996us/step - accuracy: 0.6155 - loss: 0.6560 - val_accuracy: 0.6300 - val_loss: 0.6516\n",
      "Epoch 27/150\n",
      "\u001B[1m41/41\u001B[0m \u001B[32m━━━━━━━━━━━━━━━━━━━━\u001B[0m\u001B[37m\u001B[0m \u001B[1m0s\u001B[0m 1ms/step - accuracy: 0.6245 - loss: 0.6585 - val_accuracy: 0.6422 - val_loss: 0.6504\n",
      "Epoch 28/150\n",
      "\u001B[1m41/41\u001B[0m \u001B[32m━━━━━━━━━━━━━━━━━━━━\u001B[0m\u001B[37m\u001B[0m \u001B[1m0s\u001B[0m 1ms/step - accuracy: 0.6114 - loss: 0.6598 - val_accuracy: 0.6391 - val_loss: 0.6494\n",
      "Epoch 29/150\n",
      "\u001B[1m41/41\u001B[0m \u001B[32m━━━━━━━━━━━━━━━━━━━━\u001B[0m\u001B[37m\u001B[0m \u001B[1m0s\u001B[0m 1ms/step - accuracy: 0.6245 - loss: 0.6586 - val_accuracy: 0.6453 - val_loss: 0.6477\n",
      "Epoch 30/150\n",
      "\u001B[1m41/41\u001B[0m \u001B[32m━━━━━━━━━━━━━━━━━━━━\u001B[0m\u001B[37m\u001B[0m \u001B[1m0s\u001B[0m 1ms/step - accuracy: 0.6195 - loss: 0.6609 - val_accuracy: 0.6453 - val_loss: 0.6471\n",
      "Epoch 31/150\n",
      "\u001B[1m41/41\u001B[0m \u001B[32m━━━━━━━━━━━━━━━━━━━━\u001B[0m\u001B[37m\u001B[0m \u001B[1m0s\u001B[0m 1ms/step - accuracy: 0.6096 - loss: 0.6661 - val_accuracy: 0.6453 - val_loss: 0.6456\n",
      "Epoch 32/150\n",
      "\u001B[1m41/41\u001B[0m \u001B[32m━━━━━━━━━━━━━━━━━━━━\u001B[0m\u001B[37m\u001B[0m \u001B[1m0s\u001B[0m 1ms/step - accuracy: 0.6293 - loss: 0.6454 - val_accuracy: 0.6514 - val_loss: 0.6443\n",
      "Epoch 33/150\n",
      "\u001B[1m41/41\u001B[0m \u001B[32m━━━━━━━━━━━━━━━━━━━━\u001B[0m\u001B[37m\u001B[0m \u001B[1m0s\u001B[0m 1ms/step - accuracy: 0.6253 - loss: 0.6534 - val_accuracy: 0.6575 - val_loss: 0.6427\n",
      "Epoch 34/150\n",
      "\u001B[1m41/41\u001B[0m \u001B[32m━━━━━━━━━━━━━━━━━━━━\u001B[0m\u001B[37m\u001B[0m \u001B[1m0s\u001B[0m 1ms/step - accuracy: 0.6242 - loss: 0.6508 - val_accuracy: 0.6544 - val_loss: 0.6414\n",
      "Epoch 35/150\n",
      "\u001B[1m41/41\u001B[0m \u001B[32m━━━━━━━━━━━━━━━━━━━━\u001B[0m\u001B[37m\u001B[0m \u001B[1m0s\u001B[0m 987us/step - accuracy: 0.6290 - loss: 0.6518 - val_accuracy: 0.6544 - val_loss: 0.6392\n",
      "Epoch 36/150\n",
      "\u001B[1m41/41\u001B[0m \u001B[32m━━━━━━━━━━━━━━━━━━━━\u001B[0m\u001B[37m\u001B[0m \u001B[1m0s\u001B[0m 968us/step - accuracy: 0.6335 - loss: 0.6458 - val_accuracy: 0.6606 - val_loss: 0.6375\n",
      "Epoch 37/150\n",
      "\u001B[1m41/41\u001B[0m \u001B[32m━━━━━━━━━━━━━━━━━━━━\u001B[0m\u001B[37m\u001B[0m \u001B[1m0s\u001B[0m 1ms/step - accuracy: 0.6334 - loss: 0.6391 - val_accuracy: 0.6636 - val_loss: 0.6352\n",
      "Epoch 38/150\n",
      "\u001B[1m41/41\u001B[0m \u001B[32m━━━━━━━━━━━━━━━━━━━━\u001B[0m\u001B[37m\u001B[0m \u001B[1m0s\u001B[0m 1ms/step - accuracy: 0.6303 - loss: 0.6496 - val_accuracy: 0.6575 - val_loss: 0.6334\n",
      "Epoch 39/150\n",
      "\u001B[1m41/41\u001B[0m \u001B[32m━━━━━━━━━━━━━━━━━━━━\u001B[0m\u001B[37m\u001B[0m \u001B[1m0s\u001B[0m 988us/step - accuracy: 0.6441 - loss: 0.6364 - val_accuracy: 0.6606 - val_loss: 0.6312\n",
      "Epoch 40/150\n",
      "\u001B[1m41/41\u001B[0m \u001B[32m━━━━━━━━━━━━━━━━━━━━\u001B[0m\u001B[37m\u001B[0m \u001B[1m0s\u001B[0m 975us/step - accuracy: 0.6207 - loss: 0.6486 - val_accuracy: 0.6606 - val_loss: 0.6297\n",
      "Epoch 41/150\n",
      "\u001B[1m41/41\u001B[0m \u001B[32m━━━━━━━━━━━━━━━━━━━━\u001B[0m\u001B[37m\u001B[0m \u001B[1m0s\u001B[0m 1ms/step - accuracy: 0.6342 - loss: 0.6396 - val_accuracy: 0.6636 - val_loss: 0.6270\n",
      "Epoch 42/150\n",
      "\u001B[1m41/41\u001B[0m \u001B[32m━━━━━━━━━━━━━━━━━━━━\u001B[0m\u001B[37m\u001B[0m \u001B[1m0s\u001B[0m 1ms/step - accuracy: 0.6366 - loss: 0.6381 - val_accuracy: 0.6636 - val_loss: 0.6252\n",
      "Epoch 43/150\n",
      "\u001B[1m41/41\u001B[0m \u001B[32m━━━━━━━━━━━━━━━━━━━━\u001B[0m\u001B[37m\u001B[0m \u001B[1m0s\u001B[0m 1ms/step - accuracy: 0.6468 - loss: 0.6373 - val_accuracy: 0.6606 - val_loss: 0.6242\n",
      "Epoch 44/150\n",
      "\u001B[1m41/41\u001B[0m \u001B[32m━━━━━━━━━━━━━━━━━━━━\u001B[0m\u001B[37m\u001B[0m \u001B[1m0s\u001B[0m 993us/step - accuracy: 0.6382 - loss: 0.6428 - val_accuracy: 0.6667 - val_loss: 0.6215\n",
      "Epoch 45/150\n",
      "\u001B[1m41/41\u001B[0m \u001B[32m━━━━━━━━━━━━━━━━━━━━\u001B[0m\u001B[37m\u001B[0m \u001B[1m0s\u001B[0m 1ms/step - accuracy: 0.6341 - loss: 0.6365 - val_accuracy: 0.6697 - val_loss: 0.6189\n",
      "Epoch 46/150\n",
      "\u001B[1m41/41\u001B[0m \u001B[32m━━━━━━━━━━━━━━━━━━━━\u001B[0m\u001B[37m\u001B[0m \u001B[1m0s\u001B[0m 966us/step - accuracy: 0.6416 - loss: 0.6356 - val_accuracy: 0.6667 - val_loss: 0.6181\n",
      "Epoch 47/150\n",
      "\u001B[1m41/41\u001B[0m \u001B[32m━━━━━━━━━━━━━━━━━━━━\u001B[0m\u001B[37m\u001B[0m \u001B[1m0s\u001B[0m 1ms/step - accuracy: 0.6425 - loss: 0.6357 - val_accuracy: 0.6697 - val_loss: 0.6170\n",
      "Epoch 48/150\n",
      "\u001B[1m41/41\u001B[0m \u001B[32m━━━━━━━━━━━━━━━━━━━━\u001B[0m\u001B[37m\u001B[0m \u001B[1m0s\u001B[0m 990us/step - accuracy: 0.6398 - loss: 0.6350 - val_accuracy: 0.6728 - val_loss: 0.6158\n",
      "Epoch 49/150\n",
      "\u001B[1m41/41\u001B[0m \u001B[32m━━━━━━━━━━━━━━━━━━━━\u001B[0m\u001B[37m\u001B[0m \u001B[1m0s\u001B[0m 1ms/step - accuracy: 0.6291 - loss: 0.6363 - val_accuracy: 0.6728 - val_loss: 0.6136\n",
      "Epoch 50/150\n",
      "\u001B[1m41/41\u001B[0m \u001B[32m━━━━━━━━━━━━━━━━━━━━\u001B[0m\u001B[37m\u001B[0m \u001B[1m0s\u001B[0m 1ms/step - accuracy: 0.6190 - loss: 0.6490 - val_accuracy: 0.6758 - val_loss: 0.6130\n",
      "Epoch 51/150\n",
      "\u001B[1m41/41\u001B[0m \u001B[32m━━━━━━━━━━━━━━━━━━━━\u001B[0m\u001B[37m\u001B[0m \u001B[1m0s\u001B[0m 986us/step - accuracy: 0.6509 - loss: 0.6360 - val_accuracy: 0.6789 - val_loss: 0.6122\n",
      "Epoch 52/150\n",
      "\u001B[1m41/41\u001B[0m \u001B[32m━━━━━━━━━━━━━━━━━━━━\u001B[0m\u001B[37m\u001B[0m \u001B[1m0s\u001B[0m 1ms/step - accuracy: 0.6473 - loss: 0.6359 - val_accuracy: 0.6728 - val_loss: 0.6112\n",
      "Epoch 53/150\n",
      "\u001B[1m41/41\u001B[0m \u001B[32m━━━━━━━━━━━━━━━━━━━━\u001B[0m\u001B[37m\u001B[0m \u001B[1m0s\u001B[0m 1ms/step - accuracy: 0.6369 - loss: 0.6439 - val_accuracy: 0.6820 - val_loss: 0.6089\n",
      "Epoch 54/150\n",
      "\u001B[1m41/41\u001B[0m \u001B[32m━━━━━━━━━━━━━━━━━━━━\u001B[0m\u001B[37m\u001B[0m \u001B[1m0s\u001B[0m 1ms/step - accuracy: 0.6427 - loss: 0.6299 - val_accuracy: 0.6820 - val_loss: 0.6073\n",
      "Epoch 55/150\n",
      "\u001B[1m41/41\u001B[0m \u001B[32m━━━━━━━━━━━━━━━━━━━━\u001B[0m\u001B[37m\u001B[0m \u001B[1m0s\u001B[0m 1ms/step - accuracy: 0.6227 - loss: 0.6414 - val_accuracy: 0.6850 - val_loss: 0.6052\n",
      "Epoch 56/150\n",
      "\u001B[1m41/41\u001B[0m \u001B[32m━━━━━━━━━━━━━━━━━━━━\u001B[0m\u001B[37m\u001B[0m \u001B[1m0s\u001B[0m 1ms/step - accuracy: 0.6473 - loss: 0.6344 - val_accuracy: 0.6820 - val_loss: 0.6051\n",
      "Epoch 57/150\n",
      "\u001B[1m41/41\u001B[0m \u001B[32m━━━━━━━━━━━━━━━━━━━━\u001B[0m\u001B[37m\u001B[0m \u001B[1m0s\u001B[0m 964us/step - accuracy: 0.6504 - loss: 0.6302 - val_accuracy: 0.6850 - val_loss: 0.6037\n",
      "Epoch 58/150\n",
      "\u001B[1m41/41\u001B[0m \u001B[32m━━━━━━━━━━━━━━━━━━━━\u001B[0m\u001B[37m\u001B[0m \u001B[1m0s\u001B[0m 992us/step - accuracy: 0.6379 - loss: 0.6382 - val_accuracy: 0.6942 - val_loss: 0.6028\n",
      "Epoch 59/150\n",
      "\u001B[1m41/41\u001B[0m \u001B[32m━━━━━━━━━━━━━━━━━━━━\u001B[0m\u001B[37m\u001B[0m \u001B[1m0s\u001B[0m 1ms/step - accuracy: 0.6529 - loss: 0.6261 - val_accuracy: 0.6972 - val_loss: 0.6014\n",
      "Epoch 60/150\n",
      "\u001B[1m41/41\u001B[0m \u001B[32m━━━━━━━━━━━━━━━━━━━━\u001B[0m\u001B[37m\u001B[0m \u001B[1m0s\u001B[0m 1ms/step - accuracy: 0.6538 - loss: 0.6244 - val_accuracy: 0.6972 - val_loss: 0.6007\n",
      "Epoch 61/150\n",
      "\u001B[1m41/41\u001B[0m \u001B[32m━━━━━━━━━━━━━━━━━━━━\u001B[0m\u001B[37m\u001B[0m \u001B[1m0s\u001B[0m 1ms/step - accuracy: 0.6466 - loss: 0.6326 - val_accuracy: 0.6942 - val_loss: 0.6007\n",
      "Epoch 62/150\n",
      "\u001B[1m41/41\u001B[0m \u001B[32m━━━━━━━━━━━━━━━━━━━━\u001B[0m\u001B[37m\u001B[0m \u001B[1m0s\u001B[0m 1ms/step - accuracy: 0.6552 - loss: 0.6312 - val_accuracy: 0.6942 - val_loss: 0.6016\n",
      "Epoch 63/150\n",
      "\u001B[1m41/41\u001B[0m \u001B[32m━━━━━━━━━━━━━━━━━━━━\u001B[0m\u001B[37m\u001B[0m \u001B[1m0s\u001B[0m 1ms/step - accuracy: 0.6386 - loss: 0.6266 - val_accuracy: 0.6972 - val_loss: 0.5998\n",
      "Epoch 64/150\n",
      "\u001B[1m41/41\u001B[0m \u001B[32m━━━━━━━━━━━━━━━━━━━━\u001B[0m\u001B[37m\u001B[0m \u001B[1m0s\u001B[0m 1ms/step - accuracy: 0.6727 - loss: 0.6193 - val_accuracy: 0.6972 - val_loss: 0.5987\n",
      "Epoch 65/150\n",
      "\u001B[1m41/41\u001B[0m \u001B[32m━━━━━━━━━━━━━━━━━━━━\u001B[0m\u001B[37m\u001B[0m \u001B[1m0s\u001B[0m 1ms/step - accuracy: 0.6554 - loss: 0.6271 - val_accuracy: 0.7003 - val_loss: 0.5981\n",
      "Epoch 66/150\n",
      "\u001B[1m41/41\u001B[0m \u001B[32m━━━━━━━━━━━━━━━━━━━━\u001B[0m\u001B[37m\u001B[0m \u001B[1m0s\u001B[0m 1ms/step - accuracy: 0.6520 - loss: 0.6233 - val_accuracy: 0.6942 - val_loss: 0.5978\n",
      "Epoch 67/150\n",
      "\u001B[1m41/41\u001B[0m \u001B[32m━━━━━━━━━━━━━━━━━━━━\u001B[0m\u001B[37m\u001B[0m \u001B[1m0s\u001B[0m 1ms/step - accuracy: 0.6575 - loss: 0.6185 - val_accuracy: 0.6911 - val_loss: 0.5965\n",
      "Epoch 68/150\n",
      "\u001B[1m41/41\u001B[0m \u001B[32m━━━━━━━━━━━━━━━━━━━━\u001B[0m\u001B[37m\u001B[0m \u001B[1m0s\u001B[0m 1ms/step - accuracy: 0.6400 - loss: 0.6270 - val_accuracy: 0.6881 - val_loss: 0.5968\n",
      "Epoch 69/150\n",
      "\u001B[1m41/41\u001B[0m \u001B[32m━━━━━━━━━━━━━━━━━━━━\u001B[0m\u001B[37m\u001B[0m \u001B[1m0s\u001B[0m 1ms/step - accuracy: 0.6432 - loss: 0.6192 - val_accuracy: 0.6942 - val_loss: 0.5956\n",
      "Epoch 70/150\n",
      "\u001B[1m41/41\u001B[0m \u001B[32m━━━━━━━━━━━━━━━━━━━━\u001B[0m\u001B[37m\u001B[0m \u001B[1m0s\u001B[0m 1ms/step - accuracy: 0.6764 - loss: 0.6109 - val_accuracy: 0.6942 - val_loss: 0.5946\n",
      "Epoch 71/150\n",
      "\u001B[1m41/41\u001B[0m \u001B[32m━━━━━━━━━━━━━━━━━━━━\u001B[0m\u001B[37m\u001B[0m \u001B[1m0s\u001B[0m 980us/step - accuracy: 0.6648 - loss: 0.6100 - val_accuracy: 0.6881 - val_loss: 0.5940\n",
      "Epoch 72/150\n",
      "\u001B[1m41/41\u001B[0m \u001B[32m━━━━━━━━━━━━━━━━━━━━\u001B[0m\u001B[37m\u001B[0m \u001B[1m0s\u001B[0m 1ms/step - accuracy: 0.6427 - loss: 0.6279 - val_accuracy: 0.6850 - val_loss: 0.5940\n",
      "Epoch 73/150\n",
      "\u001B[1m41/41\u001B[0m \u001B[32m━━━━━━━━━━━━━━━━━━━━\u001B[0m\u001B[37m\u001B[0m \u001B[1m0s\u001B[0m 971us/step - accuracy: 0.6649 - loss: 0.6235 - val_accuracy: 0.6850 - val_loss: 0.5930\n",
      "Epoch 74/150\n",
      "\u001B[1m41/41\u001B[0m \u001B[32m━━━━━━━━━━━━━━━━━━━━\u001B[0m\u001B[37m\u001B[0m \u001B[1m0s\u001B[0m 1ms/step - accuracy: 0.6442 - loss: 0.6394 - val_accuracy: 0.6850 - val_loss: 0.5939\n",
      "Epoch 75/150\n",
      "\u001B[1m41/41\u001B[0m \u001B[32m━━━━━━━━━━━━━━━━━━━━\u001B[0m\u001B[37m\u001B[0m \u001B[1m0s\u001B[0m 1ms/step - accuracy: 0.6549 - loss: 0.6262 - val_accuracy: 0.6881 - val_loss: 0.5945\n",
      "Epoch 76/150\n",
      "\u001B[1m41/41\u001B[0m \u001B[32m━━━━━━━━━━━━━━━━━━━━\u001B[0m\u001B[37m\u001B[0m \u001B[1m0s\u001B[0m 1ms/step - accuracy: 0.6734 - loss: 0.6114 - val_accuracy: 0.6850 - val_loss: 0.5949\n",
      "Epoch 77/150\n",
      "\u001B[1m41/41\u001B[0m \u001B[32m━━━━━━━━━━━━━━━━━━━━\u001B[0m\u001B[37m\u001B[0m \u001B[1m0s\u001B[0m 1ms/step - accuracy: 0.6601 - loss: 0.6259 - val_accuracy: 0.6850 - val_loss: 0.5946\n",
      "Epoch 78/150\n",
      "\u001B[1m41/41\u001B[0m \u001B[32m━━━━━━━━━━━━━━━━━━━━\u001B[0m\u001B[37m\u001B[0m \u001B[1m0s\u001B[0m 1ms/step - accuracy: 0.6694 - loss: 0.6186 - val_accuracy: 0.6881 - val_loss: 0.5934\n",
      "Epoch 79/150\n",
      "\u001B[1m41/41\u001B[0m \u001B[32m━━━━━━━━━━━━━━━━━━━━\u001B[0m\u001B[37m\u001B[0m \u001B[1m0s\u001B[0m 1ms/step - accuracy: 0.6684 - loss: 0.6171 - val_accuracy: 0.6850 - val_loss: 0.5935\n",
      "Epoch 80/150\n",
      "\u001B[1m41/41\u001B[0m \u001B[32m━━━━━━━━━━━━━━━━━━━━\u001B[0m\u001B[37m\u001B[0m \u001B[1m0s\u001B[0m 1ms/step - accuracy: 0.6563 - loss: 0.6224 - val_accuracy: 0.6820 - val_loss: 0.5944\n",
      "Epoch 81/150\n",
      "\u001B[1m41/41\u001B[0m \u001B[32m━━━━━━━━━━━━━━━━━━━━\u001B[0m\u001B[37m\u001B[0m \u001B[1m0s\u001B[0m 1ms/step - accuracy: 0.6644 - loss: 0.6153 - val_accuracy: 0.6850 - val_loss: 0.5940\n",
      "Epoch 82/150\n",
      "\u001B[1m41/41\u001B[0m \u001B[32m━━━━━━━━━━━━━━━━━━━━\u001B[0m\u001B[37m\u001B[0m \u001B[1m0s\u001B[0m 1ms/step - accuracy: 0.6739 - loss: 0.6017 - val_accuracy: 0.6850 - val_loss: 0.5934\n",
      "Epoch 83/150\n",
      "\u001B[1m41/41\u001B[0m \u001B[32m━━━━━━━━━━━━━━━━━━━━\u001B[0m\u001B[37m\u001B[0m \u001B[1m0s\u001B[0m 985us/step - accuracy: 0.6631 - loss: 0.6126 - val_accuracy: 0.6881 - val_loss: 0.5929\n",
      "Epoch 84/150\n",
      "\u001B[1m41/41\u001B[0m \u001B[32m━━━━━━━━━━━━━━━━━━━━\u001B[0m\u001B[37m\u001B[0m \u001B[1m0s\u001B[0m 1000us/step - accuracy: 0.6615 - loss: 0.6124 - val_accuracy: 0.6850 - val_loss: 0.5930\n",
      "Epoch 85/150\n",
      "\u001B[1m41/41\u001B[0m \u001B[32m━━━━━━━━━━━━━━━━━━━━\u001B[0m\u001B[37m\u001B[0m \u001B[1m0s\u001B[0m 950us/step - accuracy: 0.6695 - loss: 0.6159 - val_accuracy: 0.6881 - val_loss: 0.5922\n",
      "Epoch 86/150\n",
      "\u001B[1m41/41\u001B[0m \u001B[32m━━━━━━━━━━━━━━━━━━━━\u001B[0m\u001B[37m\u001B[0m \u001B[1m0s\u001B[0m 944us/step - accuracy: 0.6685 - loss: 0.6100 - val_accuracy: 0.6850 - val_loss: 0.5923\n",
      "Epoch 87/150\n",
      "\u001B[1m41/41\u001B[0m \u001B[32m━━━━━━━━━━━━━━━━━━━━\u001B[0m\u001B[37m\u001B[0m \u001B[1m0s\u001B[0m 988us/step - accuracy: 0.6677 - loss: 0.6115 - val_accuracy: 0.6850 - val_loss: 0.5918\n",
      "Epoch 88/150\n",
      "\u001B[1m41/41\u001B[0m \u001B[32m━━━━━━━━━━━━━━━━━━━━\u001B[0m\u001B[37m\u001B[0m \u001B[1m0s\u001B[0m 980us/step - accuracy: 0.6720 - loss: 0.6055 - val_accuracy: 0.6850 - val_loss: 0.5917\n",
      "Epoch 89/150\n",
      "\u001B[1m41/41\u001B[0m \u001B[32m━━━━━━━━━━━━━━━━━━━━\u001B[0m\u001B[37m\u001B[0m \u001B[1m0s\u001B[0m 951us/step - accuracy: 0.6626 - loss: 0.6090 - val_accuracy: 0.6881 - val_loss: 0.5911\n",
      "Epoch 90/150\n",
      "\u001B[1m41/41\u001B[0m \u001B[32m━━━━━━━━━━━━━━━━━━━━\u001B[0m\u001B[37m\u001B[0m \u001B[1m0s\u001B[0m 1ms/step - accuracy: 0.6637 - loss: 0.6192 - val_accuracy: 0.6881 - val_loss: 0.5909\n",
      "Epoch 91/150\n",
      "\u001B[1m41/41\u001B[0m \u001B[32m━━━━━━━━━━━━━━━━━━━━\u001B[0m\u001B[37m\u001B[0m \u001B[1m0s\u001B[0m 1ms/step - accuracy: 0.6557 - loss: 0.6204 - val_accuracy: 0.6850 - val_loss: 0.5915\n",
      "Epoch 92/150\n",
      "\u001B[1m41/41\u001B[0m \u001B[32m━━━━━━━━━━━━━━━━━━━━\u001B[0m\u001B[37m\u001B[0m \u001B[1m0s\u001B[0m 965us/step - accuracy: 0.6762 - loss: 0.6082 - val_accuracy: 0.6850 - val_loss: 0.5909\n",
      "Epoch 93/150\n",
      "\u001B[1m41/41\u001B[0m \u001B[32m━━━━━━━━━━━━━━━━━━━━\u001B[0m\u001B[37m\u001B[0m \u001B[1m0s\u001B[0m 989us/step - accuracy: 0.6813 - loss: 0.6089 - val_accuracy: 0.6881 - val_loss: 0.5906\n",
      "Epoch 94/150\n",
      "\u001B[1m41/41\u001B[0m \u001B[32m━━━━━━━━━━━━━━━━━━━━\u001B[0m\u001B[37m\u001B[0m \u001B[1m0s\u001B[0m 1ms/step - accuracy: 0.6590 - loss: 0.6246 - val_accuracy: 0.6820 - val_loss: 0.5914\n",
      "Epoch 95/150\n",
      "\u001B[1m41/41\u001B[0m \u001B[32m━━━━━━━━━━━━━━━━━━━━\u001B[0m\u001B[37m\u001B[0m \u001B[1m0s\u001B[0m 1000us/step - accuracy: 0.6632 - loss: 0.6136 - val_accuracy: 0.6820 - val_loss: 0.5913\n",
      "Epoch 96/150\n",
      "\u001B[1m41/41\u001B[0m \u001B[32m━━━━━━━━━━━━━━━━━━━━\u001B[0m\u001B[37m\u001B[0m \u001B[1m0s\u001B[0m 990us/step - accuracy: 0.6712 - loss: 0.6136 - val_accuracy: 0.6820 - val_loss: 0.5924\n",
      "Epoch 97/150\n",
      "\u001B[1m41/41\u001B[0m \u001B[32m━━━━━━━━━━━━━━━━━━━━\u001B[0m\u001B[37m\u001B[0m \u001B[1m0s\u001B[0m 978us/step - accuracy: 0.6600 - loss: 0.6155 - val_accuracy: 0.6881 - val_loss: 0.5909\n",
      "Epoch 98/150\n",
      "\u001B[1m41/41\u001B[0m \u001B[32m━━━━━━━━━━━━━━━━━━━━\u001B[0m\u001B[37m\u001B[0m \u001B[1m0s\u001B[0m 1ms/step - accuracy: 0.6810 - loss: 0.6093 - val_accuracy: 0.6820 - val_loss: 0.5916\n",
      "Epoch 99/150\n",
      "\u001B[1m41/41\u001B[0m \u001B[32m━━━━━━━━━━━━━━━━━━━━\u001B[0m\u001B[37m\u001B[0m \u001B[1m0s\u001B[0m 961us/step - accuracy: 0.6641 - loss: 0.6151 - val_accuracy: 0.6850 - val_loss: 0.5920\n",
      "Epoch 100/150\n",
      "\u001B[1m41/41\u001B[0m \u001B[32m━━━━━━━━━━━━━━━━━━━━\u001B[0m\u001B[37m\u001B[0m \u001B[1m0s\u001B[0m 1000us/step - accuracy: 0.6808 - loss: 0.6038 - val_accuracy: 0.6820 - val_loss: 0.5924\n",
      "Epoch 101/150\n",
      "\u001B[1m41/41\u001B[0m \u001B[32m━━━━━━━━━━━━━━━━━━━━\u001B[0m\u001B[37m\u001B[0m \u001B[1m0s\u001B[0m 932us/step - accuracy: 0.6831 - loss: 0.6091 - val_accuracy: 0.6789 - val_loss: 0.5920\n",
      "Epoch 102/150\n",
      "\u001B[1m41/41\u001B[0m \u001B[32m━━━━━━━━━━━━━━━━━━━━\u001B[0m\u001B[37m\u001B[0m \u001B[1m0s\u001B[0m 984us/step - accuracy: 0.6649 - loss: 0.6188 - val_accuracy: 0.6820 - val_loss: 0.5930\n",
      "Epoch 103/150\n",
      "\u001B[1m41/41\u001B[0m \u001B[32m━━━━━━━━━━━━━━━━━━━━\u001B[0m\u001B[37m\u001B[0m \u001B[1m0s\u001B[0m 1ms/step - accuracy: 0.6646 - loss: 0.6157 - val_accuracy: 0.6820 - val_loss: 0.5939\n",
      "Epoch 104/150\n",
      "\u001B[1m41/41\u001B[0m \u001B[32m━━━━━━━━━━━━━━━━━━━━\u001B[0m\u001B[37m\u001B[0m \u001B[1m0s\u001B[0m 990us/step - accuracy: 0.6743 - loss: 0.6117 - val_accuracy: 0.6820 - val_loss: 0.5936\n",
      "Epoch 105/150\n",
      "\u001B[1m41/41\u001B[0m \u001B[32m━━━━━━━━━━━━━━━━━━━━\u001B[0m\u001B[37m\u001B[0m \u001B[1m0s\u001B[0m 988us/step - accuracy: 0.6710 - loss: 0.6015 - val_accuracy: 0.6820 - val_loss: 0.5930\n",
      "Epoch 106/150\n",
      "\u001B[1m41/41\u001B[0m \u001B[32m━━━━━━━━━━━━━━━━━━━━\u001B[0m\u001B[37m\u001B[0m \u001B[1m0s\u001B[0m 925us/step - accuracy: 0.6697 - loss: 0.6137 - val_accuracy: 0.6820 - val_loss: 0.5922\n",
      "Epoch 107/150\n",
      "\u001B[1m41/41\u001B[0m \u001B[32m━━━━━━━━━━━━━━━━━━━━\u001B[0m\u001B[37m\u001B[0m \u001B[1m0s\u001B[0m 967us/step - accuracy: 0.6677 - loss: 0.6138 - val_accuracy: 0.6728 - val_loss: 0.5928\n",
      "Epoch 108/150\n",
      "\u001B[1m41/41\u001B[0m \u001B[32m━━━━━━━━━━━━━━━━━━━━\u001B[0m\u001B[37m\u001B[0m \u001B[1m0s\u001B[0m 1ms/step - accuracy: 0.6666 - loss: 0.6078 - val_accuracy: 0.6728 - val_loss: 0.5921\n",
      "Epoch 109/150\n",
      "\u001B[1m41/41\u001B[0m \u001B[32m━━━━━━━━━━━━━━━━━━━━\u001B[0m\u001B[37m\u001B[0m \u001B[1m0s\u001B[0m 1ms/step - accuracy: 0.6735 - loss: 0.6088 - val_accuracy: 0.6728 - val_loss: 0.5921\n",
      "Epoch 110/150\n",
      "\u001B[1m41/41\u001B[0m \u001B[32m━━━━━━━━━━━━━━━━━━━━\u001B[0m\u001B[37m\u001B[0m \u001B[1m0s\u001B[0m 946us/step - accuracy: 0.6699 - loss: 0.6062 - val_accuracy: 0.6758 - val_loss: 0.5928\n",
      "Epoch 111/150\n",
      "\u001B[1m41/41\u001B[0m \u001B[32m━━━━━━━━━━━━━━━━━━━━\u001B[0m\u001B[37m\u001B[0m \u001B[1m0s\u001B[0m 1ms/step - accuracy: 0.6724 - loss: 0.6061 - val_accuracy: 0.6758 - val_loss: 0.5934\n",
      "Epoch 112/150\n",
      "\u001B[1m41/41\u001B[0m \u001B[32m━━━━━━━━━━━━━━━━━━━━\u001B[0m\u001B[37m\u001B[0m \u001B[1m0s\u001B[0m 994us/step - accuracy: 0.6696 - loss: 0.6148 - val_accuracy: 0.6758 - val_loss: 0.5938\n",
      "Epoch 113/150\n",
      "\u001B[1m41/41\u001B[0m \u001B[32m━━━━━━━━━━━━━━━━━━━━\u001B[0m\u001B[37m\u001B[0m \u001B[1m0s\u001B[0m 1ms/step - accuracy: 0.6734 - loss: 0.6027 - val_accuracy: 0.6697 - val_loss: 0.5936\n",
      "Epoch 114/150\n",
      "\u001B[1m41/41\u001B[0m \u001B[32m━━━━━━━━━━━━━━━━━━━━\u001B[0m\u001B[37m\u001B[0m \u001B[1m0s\u001B[0m 1ms/step - accuracy: 0.6663 - loss: 0.6117 - val_accuracy: 0.6728 - val_loss: 0.5929\n",
      "Epoch 115/150\n",
      "\u001B[1m41/41\u001B[0m \u001B[32m━━━━━━━━━━━━━━━━━━━━\u001B[0m\u001B[37m\u001B[0m \u001B[1m0s\u001B[0m 964us/step - accuracy: 0.6799 - loss: 0.6043 - val_accuracy: 0.6758 - val_loss: 0.5935\n",
      "Epoch 116/150\n",
      "\u001B[1m41/41\u001B[0m \u001B[32m━━━━━━━━━━━━━━━━━━━━\u001B[0m\u001B[37m\u001B[0m \u001B[1m0s\u001B[0m 998us/step - accuracy: 0.6835 - loss: 0.6010 - val_accuracy: 0.6728 - val_loss: 0.5933\n",
      "Epoch 117/150\n",
      "\u001B[1m41/41\u001B[0m \u001B[32m━━━━━━━━━━━━━━━━━━━━\u001B[0m\u001B[37m\u001B[0m \u001B[1m0s\u001B[0m 1ms/step - accuracy: 0.6690 - loss: 0.6138 - val_accuracy: 0.6758 - val_loss: 0.5931\n",
      "Epoch 118/150\n",
      "\u001B[1m41/41\u001B[0m \u001B[32m━━━━━━━━━━━━━━━━━━━━\u001B[0m\u001B[37m\u001B[0m \u001B[1m0s\u001B[0m 1ms/step - accuracy: 0.6699 - loss: 0.6180 - val_accuracy: 0.6758 - val_loss: 0.5931\n",
      "Epoch 119/150\n",
      "\u001B[1m41/41\u001B[0m \u001B[32m━━━━━━━━━━━━━━━━━━━━\u001B[0m\u001B[37m\u001B[0m \u001B[1m0s\u001B[0m 993us/step - accuracy: 0.6848 - loss: 0.6034 - val_accuracy: 0.6728 - val_loss: 0.5930\n",
      "Epoch 120/150\n",
      "\u001B[1m41/41\u001B[0m \u001B[32m━━━━━━━━━━━━━━━━━━━━\u001B[0m\u001B[37m\u001B[0m \u001B[1m0s\u001B[0m 1ms/step - accuracy: 0.6715 - loss: 0.6118 - val_accuracy: 0.6728 - val_loss: 0.5929\n",
      "Epoch 121/150\n",
      "\u001B[1m41/41\u001B[0m \u001B[32m━━━━━━━━━━━━━━━━━━━━\u001B[0m\u001B[37m\u001B[0m \u001B[1m0s\u001B[0m 1ms/step - accuracy: 0.6597 - loss: 0.6150 - val_accuracy: 0.6758 - val_loss: 0.5926\n",
      "Epoch 122/150\n",
      "\u001B[1m41/41\u001B[0m \u001B[32m━━━━━━━━━━━━━━━━━━━━\u001B[0m\u001B[37m\u001B[0m \u001B[1m0s\u001B[0m 1ms/step - accuracy: 0.6897 - loss: 0.5930 - val_accuracy: 0.6789 - val_loss: 0.5939\n",
      "Epoch 123/150\n",
      "\u001B[1m41/41\u001B[0m \u001B[32m━━━━━━━━━━━━━━━━━━━━\u001B[0m\u001B[37m\u001B[0m \u001B[1m0s\u001B[0m 1ms/step - accuracy: 0.6685 - loss: 0.6120 - val_accuracy: 0.6758 - val_loss: 0.5929\n",
      "Epoch 124/150\n",
      "\u001B[1m41/41\u001B[0m \u001B[32m━━━━━━━━━━━━━━━━━━━━\u001B[0m\u001B[37m\u001B[0m \u001B[1m0s\u001B[0m 989us/step - accuracy: 0.6873 - loss: 0.5946 - val_accuracy: 0.6789 - val_loss: 0.5927\n",
      "Epoch 125/150\n",
      "\u001B[1m41/41\u001B[0m \u001B[32m━━━━━━━━━━━━━━━━━━━━\u001B[0m\u001B[37m\u001B[0m \u001B[1m0s\u001B[0m 1ms/step - accuracy: 0.6732 - loss: 0.6062 - val_accuracy: 0.6789 - val_loss: 0.5932\n",
      "Epoch 126/150\n",
      "\u001B[1m41/41\u001B[0m \u001B[32m━━━━━━━━━━━━━━━━━━━━\u001B[0m\u001B[37m\u001B[0m \u001B[1m0s\u001B[0m 1ms/step - accuracy: 0.6640 - loss: 0.6097 - val_accuracy: 0.6758 - val_loss: 0.5933\n",
      "Epoch 127/150\n",
      "\u001B[1m41/41\u001B[0m \u001B[32m━━━━━━━━━━━━━━━━━━━━\u001B[0m\u001B[37m\u001B[0m \u001B[1m0s\u001B[0m 968us/step - accuracy: 0.6837 - loss: 0.6039 - val_accuracy: 0.6789 - val_loss: 0.5926\n",
      "Epoch 128/150\n",
      "\u001B[1m41/41\u001B[0m \u001B[32m━━━━━━━━━━━━━━━━━━━━\u001B[0m\u001B[37m\u001B[0m \u001B[1m0s\u001B[0m 1ms/step - accuracy: 0.6728 - loss: 0.6094 - val_accuracy: 0.6820 - val_loss: 0.5925\n",
      "Epoch 129/150\n",
      "\u001B[1m41/41\u001B[0m \u001B[32m━━━━━━━━━━━━━━━━━━━━\u001B[0m\u001B[37m\u001B[0m \u001B[1m0s\u001B[0m 1ms/step - accuracy: 0.6671 - loss: 0.6086 - val_accuracy: 0.6697 - val_loss: 0.5915\n",
      "Epoch 130/150\n",
      "\u001B[1m41/41\u001B[0m \u001B[32m━━━━━━━━━━━━━━━━━━━━\u001B[0m\u001B[37m\u001B[0m \u001B[1m0s\u001B[0m 953us/step - accuracy: 0.6801 - loss: 0.6084 - val_accuracy: 0.6789 - val_loss: 0.5922\n",
      "Epoch 131/150\n",
      "\u001B[1m41/41\u001B[0m \u001B[32m━━━━━━━━━━━━━━━━━━━━\u001B[0m\u001B[37m\u001B[0m \u001B[1m0s\u001B[0m 995us/step - accuracy: 0.6750 - loss: 0.6043 - val_accuracy: 0.6758 - val_loss: 0.5922\n",
      "Epoch 132/150\n",
      "\u001B[1m41/41\u001B[0m \u001B[32m━━━━━━━━━━━━━━━━━━━━\u001B[0m\u001B[37m\u001B[0m \u001B[1m0s\u001B[0m 967us/step - accuracy: 0.6660 - loss: 0.6064 - val_accuracy: 0.6728 - val_loss: 0.5918\n",
      "Epoch 133/150\n",
      "\u001B[1m41/41\u001B[0m \u001B[32m━━━━━━━━━━━━━━━━━━━━\u001B[0m\u001B[37m\u001B[0m \u001B[1m0s\u001B[0m 991us/step - accuracy: 0.6826 - loss: 0.5989 - val_accuracy: 0.6758 - val_loss: 0.5920\n",
      "Epoch 134/150\n",
      "\u001B[1m41/41\u001B[0m \u001B[32m━━━━━━━━━━━━━━━━━━━━\u001B[0m\u001B[37m\u001B[0m \u001B[1m0s\u001B[0m 988us/step - accuracy: 0.6619 - loss: 0.6136 - val_accuracy: 0.6758 - val_loss: 0.5919\n",
      "Epoch 135/150\n",
      "\u001B[1m41/41\u001B[0m \u001B[32m━━━━━━━━━━━━━━━━━━━━\u001B[0m\u001B[37m\u001B[0m \u001B[1m0s\u001B[0m 989us/step - accuracy: 0.6799 - loss: 0.6095 - val_accuracy: 0.6728 - val_loss: 0.5928\n",
      "Epoch 136/150\n",
      "\u001B[1m41/41\u001B[0m \u001B[32m━━━━━━━━━━━━━━━━━━━━\u001B[0m\u001B[37m\u001B[0m \u001B[1m0s\u001B[0m 1ms/step - accuracy: 0.6903 - loss: 0.5985 - val_accuracy: 0.6820 - val_loss: 0.5918\n",
      "Epoch 137/150\n",
      "\u001B[1m41/41\u001B[0m \u001B[32m━━━━━━━━━━━━━━━━━━━━\u001B[0m\u001B[37m\u001B[0m \u001B[1m0s\u001B[0m 1ms/step - accuracy: 0.6822 - loss: 0.5930 - val_accuracy: 0.6758 - val_loss: 0.5933\n",
      "Epoch 138/150\n",
      "\u001B[1m41/41\u001B[0m \u001B[32m━━━━━━━━━━━━━━━━━━━━\u001B[0m\u001B[37m\u001B[0m \u001B[1m0s\u001B[0m 1ms/step - accuracy: 0.6549 - loss: 0.6238 - val_accuracy: 0.6758 - val_loss: 0.5930\n",
      "Epoch 139/150\n",
      "\u001B[1m41/41\u001B[0m \u001B[32m━━━━━━━━━━━━━━━━━━━━\u001B[0m\u001B[37m\u001B[0m \u001B[1m0s\u001B[0m 976us/step - accuracy: 0.6899 - loss: 0.5861 - val_accuracy: 0.6758 - val_loss: 0.5936\n",
      "Epoch 140/150\n",
      "\u001B[1m41/41\u001B[0m \u001B[32m━━━━━━━━━━━━━━━━━━━━\u001B[0m\u001B[37m\u001B[0m \u001B[1m0s\u001B[0m 986us/step - accuracy: 0.6963 - loss: 0.5864 - val_accuracy: 0.6820 - val_loss: 0.5942\n",
      "Epoch 141/150\n",
      "\u001B[1m41/41\u001B[0m \u001B[32m━━━━━━━━━━━━━━━━━━━━\u001B[0m\u001B[37m\u001B[0m \u001B[1m0s\u001B[0m 966us/step - accuracy: 0.6601 - loss: 0.6092 - val_accuracy: 0.6789 - val_loss: 0.5939\n",
      "Epoch 142/150\n",
      "\u001B[1m41/41\u001B[0m \u001B[32m━━━━━━━━━━━━━━━━━━━━\u001B[0m\u001B[37m\u001B[0m \u001B[1m0s\u001B[0m 1ms/step - accuracy: 0.6879 - loss: 0.5926 - val_accuracy: 0.6758 - val_loss: 0.5930\n",
      "Epoch 143/150\n",
      "\u001B[1m41/41\u001B[0m \u001B[32m━━━━━━━━━━━━━━━━━━━━\u001B[0m\u001B[37m\u001B[0m \u001B[1m0s\u001B[0m 990us/step - accuracy: 0.6753 - loss: 0.6077 - val_accuracy: 0.6758 - val_loss: 0.5928\n",
      "Epoch 144/150\n",
      "\u001B[1m41/41\u001B[0m \u001B[32m━━━━━━━━━━━━━━━━━━━━\u001B[0m\u001B[37m\u001B[0m \u001B[1m0s\u001B[0m 949us/step - accuracy: 0.7000 - loss: 0.5942 - val_accuracy: 0.6758 - val_loss: 0.5925\n",
      "Epoch 145/150\n",
      "\u001B[1m41/41\u001B[0m \u001B[32m━━━━━━━━━━━━━━━━━━━━\u001B[0m\u001B[37m\u001B[0m \u001B[1m0s\u001B[0m 975us/step - accuracy: 0.6715 - loss: 0.6063 - val_accuracy: 0.6758 - val_loss: 0.5928\n",
      "Epoch 146/150\n",
      "\u001B[1m41/41\u001B[0m \u001B[32m━━━━━━━━━━━━━━━━━━━━\u001B[0m\u001B[37m\u001B[0m \u001B[1m0s\u001B[0m 992us/step - accuracy: 0.6840 - loss: 0.5930 - val_accuracy: 0.6728 - val_loss: 0.5927\n",
      "Epoch 147/150\n",
      "\u001B[1m41/41\u001B[0m \u001B[32m━━━━━━━━━━━━━━━━━━━━\u001B[0m\u001B[37m\u001B[0m \u001B[1m0s\u001B[0m 1000us/step - accuracy: 0.6968 - loss: 0.5994 - val_accuracy: 0.6820 - val_loss: 0.5918\n",
      "Epoch 148/150\n",
      "\u001B[1m41/41\u001B[0m \u001B[32m━━━━━━━━━━━━━━━━━━━━\u001B[0m\u001B[37m\u001B[0m \u001B[1m0s\u001B[0m 1ms/step - accuracy: 0.6947 - loss: 0.5878 - val_accuracy: 0.6758 - val_loss: 0.5920\n",
      "Epoch 149/150\n",
      "\u001B[1m41/41\u001B[0m \u001B[32m━━━━━━━━━━━━━━━━━━━━\u001B[0m\u001B[37m\u001B[0m \u001B[1m0s\u001B[0m 995us/step - accuracy: 0.6700 - loss: 0.6041 - val_accuracy: 0.6789 - val_loss: 0.5922\n",
      "Epoch 150/150\n",
      "\u001B[1m41/41\u001B[0m \u001B[32m━━━━━━━━━━━━━━━━━━━━\u001B[0m\u001B[37m\u001B[0m \u001B[1m0s\u001B[0m 986us/step - accuracy: 0.6784 - loss: 0.6033 - val_accuracy: 0.6758 - val_loss: 0.5924\n",
      "\u001B[1m11/11\u001B[0m \u001B[32m━━━━━━━━━━━━━━━━━━━━\u001B[0m\u001B[37m\u001B[0m \u001B[1m0s\u001B[0m 500us/step - accuracy: 0.7168 - loss: 0.6058\n",
      "------------------ MLP ------------------\n",
      "-----------------------------------------\n",
      "Test accuracy: 0.7094801068305969\n",
      "Test loss: 0.6107549667358398\n",
      "-----------------------------------------\n"
     ]
    },
    {
     "data": {
      "text/plain": "<Figure size 1200x500 with 2 Axes>",
      "image/png": "[encoded data removed]"
     },
     "metadata": {},
     "output_type": "display_data"
    }
   ],
   "source": [
    "modelMLP = MLPClassifierWrapper(train_mlp, val_mlp, test_mlp)\n",
    "modelMLP.train_model()\n",
    "modelMLP.evaluate_model()\n",
    "modelMLP.plot_results()"
   ],
   "metadata": {
    "collapsed": false,
    "ExecuteTime": {
     "end_time": "2024-04-12T16:23:57.251741Z",
     "start_time": "2024-04-12T16:23:47.628008Z"
    }
   },
   "id": "c0733c3e08c47509",
   "execution_count": 10
  }
 ],
 "metadata": {
  "kernelspec": {
   "display_name": "Python 3",
   "language": "python",
   "name": "python3"
  },
  "language_info": {
   "codemirror_mode": {
    "name": "ipython",
    "version": 2
   },
   "file_extension": ".py",
   "mimetype": "text/x-python",
   "name": "python",
   "nbconvert_exporter": "python",
   "pygments_lexer": "ipython2",
   "version": "2.7.6"
  }
 },
 "nbformat": 4,
 "nbformat_minor": 5
}
